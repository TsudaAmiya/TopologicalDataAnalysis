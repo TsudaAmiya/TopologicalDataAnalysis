{
 "cells": [
  {
   "cell_type": "code",
   "execution_count": null,
   "id": "4fb92b4c",
   "metadata": {},
   "outputs": [
    {
     "name": "stdout",
     "output_type": "stream",
     "text": [
      "                                        ________________________ A\n",
      "  _____________________________________|\n",
      " |                                     |_____________________________________ B\n",
      "_|\n",
      " |_________________________________________________ C\n",
      " |\n",
      " |_________________________________________________ D\n",
      "\n"
     ]
    }
   ],
   "source": [
    "from Bio import Phylo\n",
    "from Bio.Phylo.TreeConstruction import DistanceMatrix, DistanceTreeConstructor\n",
    "\n",
    "# 距離行列の作成（A, B, C, D）ただし、DistanceMatrixは下三角のみを受け付けるため、下三角行列\n",
    "names = [\"A\", \"B\", \"C\", \"D\"]\n",
    "matrix = [\n",
    "    [0],\n",
    "    [5, 0],\n",
    "    [9, 10, 0],\n",
    "    [9, 10, 8, 0]\n",
    "]\n",
    "\n",
    "dm = DistanceMatrix(names, matrix)\n",
    "constructor = DistanceTreeConstructor()\n",
    "tree = constructor.nj(dm)\n",
    "\n",
    "# 樹形図を表示\n",
    "Phylo.draw_ascii(tree)\n"
   ]
  },
  {
   "cell_type": "code",
   "execution_count": null,
   "id": "4f85ced9",
   "metadata": {},
   "outputs": [
    {
     "name": "stdout",
     "output_type": "stream",
     "text": [
      "  _________________ A\n",
      " |\n",
      " |            ________________________________ F\n",
      " |           |\n",
      " |     ______|                               ______ H\n",
      " |    |      |                      ________|\n",
      " |    |      |                     |        |            _________ E\n",
      "_|    |      |_____________________|        |___________|\n",
      " |____|                            |                    |___________________ D\n",
      " |    |                            |\n",
      " |    |                            |__________________________________ C\n",
      " |    |\n",
      " |    |______________________ B\n",
      " |\n",
      " |_________ G\n",
      "\n"
     ]
    }
   ],
   "source": [
    "from Bio import Phylo\n",
    "from Bio.Phylo.TreeConstruction import DistanceMatrix, DistanceTreeConstructor\n",
    "\n",
    "# 距離行列のラベル（配列名）\n",
    "names = [\"A\", \"B\", \"C\", \"D\", \"E\", \"F\", \"G\", \"H\"]\n",
    "\n",
    "# 距離行列\n",
    "square_matrix = [\n",
    "    [0, 5, 9, 9, 8, 7, 3, 6],\n",
    "    [5, 0, 10, 10, 9, 6, 4, 7],\n",
    "    [9, 10, 0, 8, 7, 9, 8, 5],\n",
    "    [9, 10, 8, 0, 3, 10, 9, 4],\n",
    "    [8, 9, 7, 3, 0, 9, 8, 3],\n",
    "    [7, 6, 9, 10, 9, 0, 6, 8],\n",
    "    [3, 4, 8, 9, 8, 6, 0, 7],\n",
    "    [6, 7, 5, 4, 3, 8, 7, 0]\n",
    "]\n",
    "\n",
    "# Bio.PhyloのDistanceMatrixは下三角のみを受け付けるため、下三角に変換\n",
    "lower_triangle = []\n",
    "for i in range(len(square_matrix)):\n",
    "    lower_triangle.append([square_matrix[i][j] for j in range(i+1)])\n",
    "\n",
    "# 距離行列と系統樹の構築\n",
    "dm = DistanceMatrix(names, lower_triangle)\n",
    "constructor = DistanceTreeConstructor()\n",
    "tree = constructor.nj(dm)\n",
    "\n",
    "# ASCII形式で系統樹を表示\n",
    "Phylo.draw_ascii(tree)"
   ]
  },
  {
   "cell_type": "code",
   "execution_count": 3,
   "id": "4b93c40c",
   "metadata": {},
   "outputs": [
    {
     "name": "stdout",
     "output_type": "stream",
     "text": [
      "  ___________________________________________________________________________ C\n",
      " |\n",
      " | A\n",
      "_|\n",
      " |____________________________________ B\n",
      " |\n",
      " |____________________________________ D\n",
      "\n"
     ]
    }
   ],
   "source": [
    "from Bio import AlignIO, Phylo\n",
    "from Bio.Phylo.TreeConstruction import DistanceCalculator, DistanceTreeConstructor\n",
    "from io import StringIO\n",
    "\n",
    "# 例: FASTA形式の配列（実際はファイルから読み込み可能）\n",
    "fasta_data = \"\"\">A\n",
    "ATCGTACGATCG\n",
    ">B\n",
    "ATCGTTCGATCG\n",
    ">C\n",
    "ATGGTACGATCA\n",
    ">D\n",
    "ATCGTACGATTG\n",
    "\"\"\"\n",
    "\n",
    "# 文字列からFASTA読み込み（通常は AlignIO.read(\"file.fasta\", \"fasta\")）\n",
    "alignment = AlignIO.read(StringIO(fasta_data), \"fasta\")\n",
    "\n",
    "# 距離行列の計算（モデルは \"identity\" or \"blosum62\", \"trans\", etc.）\n",
    "calculator = DistanceCalculator(\"identity\")\n",
    "distance_matrix = calculator.get_distance(alignment)\n",
    "\n",
    "# NJ法で系統樹構築\n",
    "constructor = DistanceTreeConstructor()\n",
    "tree = constructor.nj(distance_matrix)\n",
    "\n",
    "# 系統樹を表示\n",
    "Phylo.draw_ascii(tree)\n"
   ]
  }
 ],
 "metadata": {
  "kernelspec": {
   "display_name": "venv",
   "language": "python",
   "name": "python3"
  },
  "language_info": {
   "codemirror_mode": {
    "name": "ipython",
    "version": 3
   },
   "file_extension": ".py",
   "mimetype": "text/x-python",
   "name": "python",
   "nbconvert_exporter": "python",
   "pygments_lexer": "ipython3",
   "version": "3.12.3"
  }
 },
 "nbformat": 4,
 "nbformat_minor": 5
}
